{
  "nbformat": 4,
  "nbformat_minor": 0,
  "metadata": {
    "colab": {
      "provenance": []
    },
    "kernelspec": {
      "name": "python3",
      "display_name": "Python 3"
    },
    "language_info": {
      "name": "python"
    }
  },
  "cells": [
    {
      "cell_type": "markdown",
      "source": [
        "Assignment of Machine Learning\n",
        "What is a parameter?\n",
        "A parameter is a variable that defines a model's behavior and is learned from data during training.\n",
        "\n",
        "What is correlation?\n",
        "Correlation measures the statistical relationship between two variables, indicating how they move together.\n",
        "\n",
        "What does negative correlation mean?\n",
        "Negative correlation means that as one variable increases, the other decreases, and vice versa.\n",
        "\n",
        "Define Machine Learning.\n",
        "Machine Learning is a subset of AI that enables systems to learn patterns from data and make predictions without explicit programming.\n",
        "\n",
        "What are the main components in Machine Learning?\n",
        "The main components are data, model, loss function, optimizer, and evaluation metrics.\n",
        "\n",
        "How does loss value help in determining whether the model is good or not?\n",
        "A lower loss value indicates better model performance, as it reflects smaller errors in predictions.\n",
        "\n",
        "What are continuous and categorical variables?\n",
        "Continuous variables are numeric and can take any value, while categorical variables represent discrete categories or groups.\n",
        "\n",
        "How do we handle categorical variables in Machine Learning?\n",
        "Categorical variables are handled using techniques like one-hot encoding, label encoding, or ordinal encoding.\n",
        "\n",
        "What do you mean by training and testing a dataset?\n",
        "Training involves teaching the model using a dataset, while testing evaluates its performance on unseen data.\n",
        "\n",
        "What is sklearn.preprocessing?\n",
        "It is a Scikit-learn module for data preprocessing tasks like scaling, encoding, and normalization.\n",
        "\n",
        "What is a Test set?\n",
        "A test set is a portion of data reserved to evaluate the model's performance after training.\n",
        "\n",
        "How do we split data for model fitting (training and testing) in Python?\n",
        "Use train_test_split from Scikit-learn to divide data into training and testing sets.\n",
        "\n",
        "How do you approach a Machine Learning problem?\n",
        "Start with problem understanding, data collection, EDA, model selection, training, evaluation, and deployment.\n",
        "\n",
        "Why do we have to perform EDA before fitting a model to the data?\n",
        "EDA helps understand data patterns, detect anomalies, and prepare data for effective model training.\n",
        "\n",
        "How can you find correlation between variables in Python?\n",
        "Use df.corr() in Pandas or seaborn.heatmap() to visualize correlation matrices.\n",
        "\n",
        "What is causation?\n",
        "Causation implies that one event is the result of the occurrence of another event.\n",
        "\n",
        "Explain difference between correlation and causation with an example.\n",
        "Correlation: Ice cream sales and drowning incidents increase together. Causation: Heat causes both, but one doesn’t cause the other.\n",
        "\n",
        "What is an Optimizer?\n",
        "An optimizer adjusts model parameters to minimize the loss function during training.\n",
        "\n",
        "What are different types of optimizers?\n",
        "Examples include SGD, Adam, RMSprop, and Adagrad, each with different update rules for parameters.\n",
        "\n",
        "What is sklearn.linear_model?\n",
        "It is a Scikit-learn module for linear models like Linear Regression, Logistic Regression, etc.\n",
        "\n",
        "What does model.fit() do? What arguments must be given?\n",
        "model.fit() trains the model using input features (X) and target labels (y).\n",
        "\n",
        "What does model.predict() do? What arguments must be given?\n",
        "model.predict() generates predictions for new input data (X_test).\n",
        "\n",
        "What is feature scaling?\n",
        "Feature scaling normalizes or standardizes data to bring all features to a similar range.\n",
        "\n",
        "How does it help in Machine Learning?\n",
        "It improves model convergence and performance, especially for distance-based algorithms.\n",
        "\n",
        "Explain data encoding.\n",
        "Data encoding converts categorical data into numerical format using techniques like one-hot or label encoding."
      ],
      "metadata": {
        "id": "fArWFWHseX6n"
      }
    },
    {
      "cell_type": "code",
      "source": [],
      "metadata": {
        "id": "Q7shNgyMedAb"
      },
      "execution_count": null,
      "outputs": []
    },
    {
      "cell_type": "code",
      "source": [],
      "metadata": {
        "id": "X9-k0boweXU0"
      },
      "execution_count": null,
      "outputs": []
    },
    {
      "cell_type": "code",
      "execution_count": null,
      "metadata": {
        "id": "iBPXa6dYeQry"
      },
      "outputs": [],
      "source": []
    }
  ]
}